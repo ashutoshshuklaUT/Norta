{
 "cells": [
  {
   "cell_type": "code",
   "execution_count": 1,
   "id": "a11cd8fd-633e-4ad6-98db-6a0803a21d6b",
   "metadata": {},
   "outputs": [],
   "source": [
    "import time\n",
    "import pickle\n",
    "import os\n",
    "import pandas as pd\n",
    "from norta import *"
   ]
  },
  {
   "cell_type": "code",
   "execution_count": 5,
   "id": "38593d96-fd33-4eba-8de7-6432c26e80ee",
   "metadata": {},
   "outputs": [
    {
     "name": "stdout",
     "output_type": "stream",
     "text": [
      "Starting NORTA fitting\n",
      "Finding 3 correlation terms\n",
      "Time taken to run the script: 1.744818925857544 seconds\n",
      "Dimension of the problem is:  3\n"
     ]
    }
   ],
   "source": [
    "start_time = time.time()\n",
    "if __name__ == '__main__':\n",
    "    np.random.seed(0)\n",
    "    n_sample = 10000\n",
    "    d_sample = 3\n",
    "\n",
    "    cov_sample = np.eye(d_sample) + np.random.rand(d_sample, d_sample)\n",
    "    sim_cov = cov_sample.transpose().dot(cov_sample)\n",
    "    data = np.random.multivariate_normal(np.zeros(d_sample), sim_cov, size=n_sample)\n",
    "    n = len(data)\n",
    "    d = len(data[0])\n",
    "    norta_data = fit_NORTA(data, n, d, sim_cov, lambda_param=0.005, mc_samples=2E6, output_flag=1, n_proc=4)\n",
    "\n",
    "    parent_folder = \"output\"\n",
    "    new_directory = \"demo_\" + str(d_sample) + \"d\"\n",
    "    new_directory_path = os.path.join(parent_folder, new_directory)\n",
    "    os.makedirs(new_directory_path, exist_ok=True)\n",
    "\n",
    "    with open(new_directory_path + \"/norta_object\", 'wb') as file:\n",
    "        pickle.dump(norta_data, file)\n",
    "    pd.DataFrame(sim_cov).to_csv( new_directory_path + \"/target_covariance.csv\")\n",
    "    end_time = time.time()\n",
    "    elapsed_time = end_time - start_time\n",
    "\n",
    "    # Print the elapsed time\n",
    "    print(f\"Time taken to run the script: {elapsed_time} seconds\")\n",
    "    print(\"Dimension of the problem is: \", d)    "
   ]
  },
  {
   "cell_type": "code",
   "execution_count": 6,
   "id": "4a7c3b51-ea6a-483a-ba53-363f0fa144b2",
   "metadata": {},
   "outputs": [
    {
     "data": {
      "text/html": [
       "<div>\n",
       "<style scoped>\n",
       "    .dataframe tbody tr th:only-of-type {\n",
       "        vertical-align: middle;\n",
       "    }\n",
       "\n",
       "    .dataframe tbody tr th {\n",
       "        vertical-align: top;\n",
       "    }\n",
       "\n",
       "    .dataframe thead th {\n",
       "        text-align: right;\n",
       "    }\n",
       "</style>\n",
       "<table border=\"1\" class=\"dataframe\">\n",
       "  <thead>\n",
       "    <tr style=\"text-align: right;\">\n",
       "      <th></th>\n",
       "      <th>0</th>\n",
       "      <th>1</th>\n",
       "      <th>2</th>\n",
       "    </tr>\n",
       "  </thead>\n",
       "  <tbody>\n",
       "    <tr>\n",
       "      <th>0</th>\n",
       "      <td>2.886508</td>\n",
       "      <td>2.280843</td>\n",
       "      <td>2.151157</td>\n",
       "    </tr>\n",
       "    <tr>\n",
       "      <th>1</th>\n",
       "      <td>2.280843</td>\n",
       "      <td>3.326185</td>\n",
       "      <td>3.104936</td>\n",
       "    </tr>\n",
       "    <tr>\n",
       "      <th>2</th>\n",
       "      <td>2.151157</td>\n",
       "      <td>3.104936</td>\n",
       "      <td>4.513992</td>\n",
       "    </tr>\n",
       "  </tbody>\n",
       "</table>\n",
       "</div>"
      ],
      "text/plain": [
       "          0         1         2\n",
       "0  2.886508  2.280843  2.151157\n",
       "1  2.280843  3.326185  3.104936\n",
       "2  2.151157  3.104936  4.513992"
      ]
     },
     "execution_count": 6,
     "metadata": {},
     "output_type": "execute_result"
    }
   ],
   "source": [
    "with open(new_directory_path + \"/norta_object\", 'rb') as f:\n",
    "    norta_data = pickle.load(f)\n",
    "\n",
    "target_cov = pd.read_csv(new_directory_path + \"/target_covariance.csv\")\n",
    "target_cov.drop(\"Unnamed: 0\", inplace=True, axis=1)\n",
    "\n",
    "ng = norta_data.gen(1000000)\n",
    "covariance_matrix = np.cov(ng, rowvar=False)\n",
    "pd.DataFrame(covariance_matrix)"
   ]
  },
  {
   "cell_type": "code",
   "execution_count": 7,
   "id": "2df93ebd-09fb-43b2-b3bd-f04403324226",
   "metadata": {},
   "outputs": [
    {
     "data": {
      "text/html": [
       "<div>\n",
       "<style scoped>\n",
       "    .dataframe tbody tr th:only-of-type {\n",
       "        vertical-align: middle;\n",
       "    }\n",
       "\n",
       "    .dataframe tbody tr th {\n",
       "        vertical-align: top;\n",
       "    }\n",
       "\n",
       "    .dataframe thead th {\n",
       "        text-align: right;\n",
       "    }\n",
       "</style>\n",
       "<table border=\"1\" class=\"dataframe\">\n",
       "  <thead>\n",
       "    <tr style=\"text-align: right;\">\n",
       "      <th></th>\n",
       "      <th>0</th>\n",
       "      <th>1</th>\n",
       "      <th>2</th>\n",
       "    </tr>\n",
       "  </thead>\n",
       "  <tbody>\n",
       "    <tr>\n",
       "      <th>0</th>\n",
       "      <td>2.887204</td>\n",
       "      <td>2.273649</td>\n",
       "      <td>2.144779</td>\n",
       "    </tr>\n",
       "    <tr>\n",
       "      <th>1</th>\n",
       "      <td>2.273649</td>\n",
       "      <td>3.333548</td>\n",
       "      <td>3.101762</td>\n",
       "    </tr>\n",
       "    <tr>\n",
       "      <th>2</th>\n",
       "      <td>2.144779</td>\n",
       "      <td>3.101762</td>\n",
       "      <td>4.636474</td>\n",
       "    </tr>\n",
       "  </tbody>\n",
       "</table>\n",
       "</div>"
      ],
      "text/plain": [
       "          0         1         2\n",
       "0  2.887204  2.273649  2.144779\n",
       "1  2.273649  3.333548  3.101762\n",
       "2  2.144779  3.101762  4.636474"
      ]
     },
     "execution_count": 7,
     "metadata": {},
     "output_type": "execute_result"
    }
   ],
   "source": [
    "pd.DataFrame(sim_cov)"
   ]
  },
  {
   "cell_type": "code",
   "execution_count": null,
   "id": "f14cee2a-894b-4afb-88b3-6e862811e599",
   "metadata": {},
   "outputs": [],
   "source": []
  }
 ],
 "metadata": {
  "kernelspec": {
   "display_name": "Python 3 (ipykernel)",
   "language": "python",
   "name": "python3"
  },
  "language_info": {
   "codemirror_mode": {
    "name": "ipython",
    "version": 3
   },
   "file_extension": ".py",
   "mimetype": "text/x-python",
   "name": "python",
   "nbconvert_exporter": "python",
   "pygments_lexer": "ipython3",
   "version": "3.11.7"
  }
 },
 "nbformat": 4,
 "nbformat_minor": 5
}

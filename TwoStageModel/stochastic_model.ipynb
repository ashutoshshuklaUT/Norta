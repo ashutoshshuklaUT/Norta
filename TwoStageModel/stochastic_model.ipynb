{
 "cells": [
  {
   "cell_type": "code",
   "execution_count": 83,
   "id": "6da82410-7aa1-4e3b-9d34-e4983fc7beb2",
   "metadata": {},
   "outputs": [],
   "source": [
    "scenario_id = 1\n",
    "n_scenario = 16\n",
    "\n",
    "import os\n",
    "import pandas as pd\n",
    "import numpy as np\n",
    "import yaml\n",
    "import json\n",
    "import shutil\n",
    "import numpy as np\n",
    "from gurobipy import GRB\n",
    "from utils import prepare_input\n",
    "from main_model import two_stage_model\n",
    "\n",
    "pd.set_option('display.max_rows', 500)\n",
    "pd.set_option('display.max_columns', 500)\n",
    "\n",
    "dir_name = 'norta_sm_' + str(n_scenario) + \"_\" + str(scenario_id) +'/'"
   ]
  },
  {
   "cell_type": "code",
   "execution_count": 94,
   "id": "32357ef0-18ea-4e80-9fcb-ea7f63a0a5e7",
   "metadata": {},
   "outputs": [],
   "source": [
    "with open(r'config.yaml') as file:\n",
    "    model_params = yaml.load(file, Loader=yaml.FullLoader)\n",
    "\n",
    "model_params[\"path_to_input\"] = \"16_Scenario/\"\n",
    "model_params[\"input1\"], model_params[\"input2\"] = prepare_input(model_params[\"path_to_input\"])"
   ]
  },
  {
   "cell_type": "code",
   "execution_count": 84,
   "id": "a602bb6c-9155-4acc-a7f0-51ad014cfe58",
   "metadata": {},
   "outputs": [],
   "source": [
    "for column_id in model_params[\"input1\"].columns:\n",
    "    if \"max_flood_level\" in column_id:\n",
    "        model_params[\"input1\"][column_id] = 0\n",
    "\n",
    "norta_scenario = pd.read_csv(\"../scenarios/\" + str(scenario_id) + \"/\" + \"Final_Input1.csv\", index_col=\"Unnamed: 0\")\n",
    "set_of_flooded_substations = norta_scenario.columns\n",
    "meow_maps = list(norta_scenario.index)"
   ]
  },
  {
   "cell_type": "code",
   "execution_count": 85,
   "id": "aef0d8dd-6ec9-40fe-96e3-20db2cfc6c1a",
   "metadata": {},
   "outputs": [],
   "source": [
    "model_params[\"path_to_output\"] = os.getcwd() + \"/output/\" + dir_name\n",
    "if os.path.exists(model_params[\"path_to_output\"]):\n",
    "    shutil.rmtree(model_params[\"path_to_output\"], ignore_errors=True)\n",
    "os.mkdir(model_params[\"path_to_output\"])"
   ]
  },
  {
   "cell_type": "code",
   "execution_count": 87,
   "id": "c47af329-55cb-43d7-9c31-6d1e3fa84bf1",
   "metadata": {},
   "outputs": [],
   "source": [
    "for row_id in range(model_params[\"input1\"].shape[0]):\n",
    "    substation_ = model_params[\"input1\"].iloc[row_id,2]\n",
    "    if str(substation_) in set_of_flooded_substations:\n",
    "        busnum = model_params[\"input1\"].index[row_id]\n",
    "        model_params[\"input1\"].loc[busnum,meow_maps] = list(norta_scenario[str(substation_)])"
   ]
  },
  {
   "cell_type": "code",
   "execution_count": null,
   "id": "a2f63279-dfc3-476f-836f-e68a854ad4a6",
   "metadata": {},
   "outputs": [],
   "source": [
    "budget_vector = [0,20,40,60,80]\n",
    "base_model = two_stage_model(model_params)"
   ]
  },
  {
   "cell_type": "code",
   "execution_count": null,
   "id": "7bbf39ef-d18d-4e4b-85b0-b3fad6dc943f",
   "metadata": {
    "tags": []
   },
   "outputs": [],
   "source": [
    "for budget in budget_vector:\n",
    "    base_model.budget_ref.rhs = budget*1e6\n",
    "    base_model.model.setParam(\"LogFile\", model_params[\"path_to_output\"] + str(budget) + \"M\")\n",
    "    base_model.model.setParam(\"MIPGap\", model_params[\"mip_gap\"])\n",
    "    base_model.model.setParam(\"TimeLimit\", model_params[\"time_limit\"])\n",
    "    base_model.model.setParam(\"Method\", model_params[\"solver_method\"])\n",
    "    base_model.model.optimize()\n",
    "    base_model.model.write(model_params[\"path_to_output\"] + str(budget) + \"M_\" + \"solution.sol\")    \n",
    "    print(\"\\n\\n*********************************************\")\n",
    "    print(\"*********************************************\\n\\n\")\n",
    "\n",
    "with open(model_params[\"path_to_output\"] + 'model_params.json', 'w') as fp:\n",
    "    del model_params[\"input1\"]\n",
    "    del model_params[\"input2\"]\n",
    "    json.dump(model_params, fp)"
   ]
  }
 ],
 "metadata": {
  "kernelspec": {
   "display_name": "Python 3 (ipykernel)",
   "language": "python",
   "name": "python3"
  },
  "language_info": {
   "codemirror_mode": {
    "name": "ipython",
    "version": 3
   },
   "file_extension": ".py",
   "mimetype": "text/x-python",
   "name": "python",
   "nbconvert_exporter": "python",
   "pygments_lexer": "ipython3",
   "version": "3.9.7"
  }
 },
 "nbformat": 4,
 "nbformat_minor": 5
}

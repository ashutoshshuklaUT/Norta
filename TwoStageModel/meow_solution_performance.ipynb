{
 "cells": [
  {
   "cell_type": "code",
   "execution_count": 1,
   "id": "ecef5f13",
   "metadata": {},
   "outputs": [],
   "source": [
    "import yaml\n",
    "import json\n",
    "import pandas as pd\n",
    "from utils import prepare_input\n",
    "from main_model import two_stage_model\n",
    "\n",
    "import matplotlib.pyplot as plt\n",
    "\n",
    "%matplotlib inline"
   ]
  },
  {
   "cell_type": "markdown",
   "id": "bdf448a5",
   "metadata": {},
   "source": [
    "### Reading solved models data"
   ]
  },
  {
   "cell_type": "code",
   "execution_count": null,
   "id": "c4ef3de4",
   "metadata": {},
   "outputs": [],
   "source": [
    "path = \"/home1/07346/ashukla/Norta/TwoStageModel/output/sm_16/\"\n",
    "with open(path + \"model_params.json\") as file:\n",
    "    model_params = json.load(file)"
   ]
  },
  {
   "cell_type": "code",
   "execution_count": null,
   "id": "b14d8f13",
   "metadata": {},
   "outputs": [],
   "source": [
    "model_params[\"path_to_input\"] = \"16_Scenario/\"\n",
    "model_params[\"path_to_output\"] = \"Error_Path\"\n",
    "model_params[\"mit_coarse\"] = 1"
   ]
  },
  {
   "cell_type": "code",
   "execution_count": null,
   "id": "d0620b2a",
   "metadata": {},
   "outputs": [],
   "source": [
    "model_params[\"input1\"], model_params[\"input2\"] = prepare_input(model_params[\"path_to_input\"])"
   ]
  },
  {
   "cell_type": "code",
   "execution_count": null,
   "id": "85e554d7",
   "metadata": {},
   "outputs": [],
   "source": [
    "base_model = two_stage_model(model_params)        \n",
    "base_model.model.update()\n",
    "\n",
    "budget_vector = [0,10,20,30,40,50,60,70,80]"
   ]
  },
  {
   "cell_type": "code",
   "execution_count": null,
   "id": "3156f2eb",
   "metadata": {},
   "outputs": [],
   "source": [
    "hardening_decisions = {}\n",
    "for budget in budget_vector:\n",
    "    hardening = []\n",
    "    sol_path = path + str(budget) + \"M_solution.sol\"\n",
    "    base_model.model.read(sol_path)\n",
    "    base_model.model.update()\n",
    "    for sub_id in base_model.unique_substations:\n",
    "        temp = round(base_model.model.getVarByName('x[' +  str(sub_id) + ']').Start)\n",
    "        hardening.append(temp)\n",
    "    hardening_decisions[budget] = hardening\n",
    "df = pd.DataFrame(hardening_decisions)\n",
    "df.index = base_model.unique_substations\n",
    "\n",
    "df = df[df.sum(axis=1) > 0]"
   ]
  },
  {
   "cell_type": "markdown",
   "id": "0c0af502",
   "metadata": {},
   "source": [
    "### Reading norta scenarios and building model from that"
   ]
  },
  {
   "cell_type": "code",
   "execution_count": null,
   "id": "dfbb203d",
   "metadata": {},
   "outputs": [],
   "source": [
    "n_scenario = 16\n",
    "objective_value = {}\n",
    "budget_vector = [0,10,20,30,40,50,60,70,80]\n",
    "#budget_vector = [10]\n",
    "\n",
    "for scenario_id in range(50):\n",
    "    objective_value[scenario_id] = {}\n",
    "    \n",
    "    dir_name = 'norta_sm_' + str(n_scenario) + \"_\" + str(scenario_id) +'/'\n",
    "    with open(r'config.yaml') as file:\n",
    "        model_params = yaml.load(file, Loader=yaml.FullLoader)\n",
    "\n",
    "    model_params[\"path_to_input\"] = \"16_Scenario/\"\n",
    "    model_params[\"path_to_output\"] = \"Error_Path\"\n",
    "    \n",
    "    model_params[\"mip_gap\"] = 0\n",
    "    \n",
    "    model_params[\"input1\"], model_params[\"input2\"] = prepare_input(model_params[\"path_to_input\"])\n",
    "\n",
    "    for column_id in model_params[\"input1\"].columns:\n",
    "        if \"max_flood_level\" in column_id:\n",
    "            model_params[\"input1\"][column_id] = 0\n",
    "\n",
    "    norta_scenario = pd.read_csv(\"../scenarios/\" + str(scenario_id) + \"/\" + \"Final_Input1.csv\", index_col=\"Unnamed: 0\")\n",
    "    set_of_flooded_substations = norta_scenario.columns\n",
    "    meow_maps = list(norta_scenario.index)\n",
    "\n",
    "    for row_id in range(model_params[\"input1\"].shape[0]):\n",
    "        substation_ = model_params[\"input1\"].iloc[row_id,2]\n",
    "        if str(substation_) in set_of_flooded_substations:\n",
    "            busnum = model_params[\"input1\"].index[row_id]\n",
    "            model_params[\"input1\"].loc[busnum,meow_maps] = list(norta_scenario[str(substation_)])\n",
    "\n",
    "    base_model = two_stage_model(model_params)\n",
    "    \n",
    "    \n",
    "    for budget in budget_vector:\n",
    "        print(scenario_id, budget)\n",
    "        base_model.budget_ref.rhs = budget*1e6    \n",
    "        temp_constraint =  base_model.model.addConstrs((base_model.x[substation] == df.loc[substation, budget]) \n",
    "                                                   for substation in list(df.index))\n",
    "                    \n",
    "        base_model.model.setParam(\"LogFile\", model_params[\"path_to_output\"] + str(budget) + \"M\")\n",
    "        base_model.model.setParam(\"MIPGap\", model_params[\"mip_gap\"])\n",
    "        base_model.model.setParam(\"TimeLimit\", model_params[\"time_limit\"])\n",
    "        base_model.model.setParam(\"Method\", model_params[\"solver_method\"])\n",
    "        base_model.model.optimize()\n",
    "        objective_value[scenario_id][budget] = base_model.model.ObjVal/10\n",
    "        base_model.model.remove(temp_constraint)\n",
    "        print(\"\\n\\n\\n\\n\")"
   ]
  },
  {
   "cell_type": "code",
   "execution_count": null,
   "id": "27ea20b5",
   "metadata": {},
   "outputs": [],
   "source": [
    "objective_value = pd.DataFrame(objective_value)\n",
    "objective_value.to_csv(\"norta_out_of_sample_testing.csv\")"
   ]
  },
  {
   "cell_type": "code",
   "execution_count": null,
   "id": "e8a7b674",
   "metadata": {
    "scrolled": false
   },
   "outputs": [],
   "source": [
    "objective_value = pd.read_csv(\"norta_out_of_sample_testing.csv\", index_col=\"Unnamed: 0\")\n",
    "print(objective_value.T.describe().round(3).to_latex())"
   ]
  },
  {
   "cell_type": "markdown",
   "id": "fe0d5a18",
   "metadata": {},
   "source": [
    "# Analysis of marginal distribution"
   ]
  },
  {
   "cell_type": "code",
   "execution_count": 2,
   "id": "195627a1",
   "metadata": {},
   "outputs": [],
   "source": [
    "temp_list = []\n",
    "\n",
    "for scenario_id in range(50):\n",
    "    norta_scenario = pd.read_csv(\"../scenarios/\" + str(scenario_id) + \"/\" + \"Final_Input1.csv\", index_col=\"Unnamed: 0\")\n",
    "    temp_list.append(norta_scenario)\n",
    "    \n",
    "result = pd.concat(temp_list, axis=0)\n",
    "\n",
    "# Resetting index if needed\n",
    "result.reset_index(drop=True, inplace=True)"
   ]
  },
  {
   "cell_type": "code",
   "execution_count": 3,
   "id": "f30a3459",
   "metadata": {},
   "outputs": [],
   "source": [
    "meow_map = pd.read_csv(\"/home1/07346/ashukla/Norta/TwoStageModel/16_Scenario/Final_Input1.csv\")\n",
    "meow_map = meow_map.drop(['BusNum', 'BusName', 'SubName', 'Latitude', 'Longitude',\n",
    "       'generation_capacity_min', 'generation_capacity_max', 'load'], axis=1).drop_duplicates()\n",
    "\n",
    "meow_map = meow_map[meow_map.iloc[:,1:].sum(axis=1) > 0]\n",
    "meow_map = meow_map.set_index(\"SubNum\")\n",
    "meow_map = meow_map.T\n",
    "\n",
    "meow_map = meow_map.reset_index(drop=True)"
   ]
  },
  {
   "cell_type": "markdown",
   "id": "c1cf5693",
   "metadata": {},
   "source": [
    "# Computing wasserstein distance"
   ]
  },
  {
   "cell_type": "code",
   "execution_count": 4,
   "id": "6442245b",
   "metadata": {},
   "outputs": [
    {
     "data": {
      "text/html": [
       "<div>\n",
       "<style scoped>\n",
       "    .dataframe tbody tr th:only-of-type {\n",
       "        vertical-align: middle;\n",
       "    }\n",
       "\n",
       "    .dataframe tbody tr th {\n",
       "        vertical-align: top;\n",
       "    }\n",
       "\n",
       "    .dataframe thead th {\n",
       "        text-align: right;\n",
       "    }\n",
       "</style>\n",
       "<table border=\"1\" class=\"dataframe\">\n",
       "  <thead>\n",
       "    <tr style=\"text-align: right;\">\n",
       "      <th></th>\n",
       "      <th>241</th>\n",
       "      <th>247</th>\n",
       "      <th>274</th>\n",
       "      <th>286</th>\n",
       "      <th>287</th>\n",
       "      <th>288</th>\n",
       "      <th>297</th>\n",
       "      <th>299</th>\n",
       "      <th>301</th>\n",
       "      <th>311</th>\n",
       "      <th>...</th>\n",
       "      <th>1110</th>\n",
       "      <th>1111</th>\n",
       "      <th>1129</th>\n",
       "      <th>1130</th>\n",
       "      <th>1132</th>\n",
       "      <th>1133</th>\n",
       "      <th>1136</th>\n",
       "      <th>1141</th>\n",
       "      <th>1143</th>\n",
       "      <th>1145</th>\n",
       "    </tr>\n",
       "  </thead>\n",
       "  <tbody>\n",
       "    <tr>\n",
       "      <th>0</th>\n",
       "      <td>5</td>\n",
       "      <td>11</td>\n",
       "      <td>18</td>\n",
       "      <td>2</td>\n",
       "      <td>1</td>\n",
       "      <td>14</td>\n",
       "      <td>9</td>\n",
       "      <td>10</td>\n",
       "      <td>11</td>\n",
       "      <td>7</td>\n",
       "      <td>...</td>\n",
       "      <td>0</td>\n",
       "      <td>17</td>\n",
       "      <td>0</td>\n",
       "      <td>0</td>\n",
       "      <td>19</td>\n",
       "      <td>10</td>\n",
       "      <td>11</td>\n",
       "      <td>0</td>\n",
       "      <td>5</td>\n",
       "      <td>19</td>\n",
       "    </tr>\n",
       "    <tr>\n",
       "      <th>1</th>\n",
       "      <td>0</td>\n",
       "      <td>6</td>\n",
       "      <td>13</td>\n",
       "      <td>0</td>\n",
       "      <td>0</td>\n",
       "      <td>10</td>\n",
       "      <td>6</td>\n",
       "      <td>5</td>\n",
       "      <td>8</td>\n",
       "      <td>2</td>\n",
       "      <td>...</td>\n",
       "      <td>0</td>\n",
       "      <td>14</td>\n",
       "      <td>0</td>\n",
       "      <td>5</td>\n",
       "      <td>17</td>\n",
       "      <td>8</td>\n",
       "      <td>8</td>\n",
       "      <td>4</td>\n",
       "      <td>4</td>\n",
       "      <td>18</td>\n",
       "    </tr>\n",
       "    <tr>\n",
       "      <th>2</th>\n",
       "      <td>1</td>\n",
       "      <td>8</td>\n",
       "      <td>16</td>\n",
       "      <td>0</td>\n",
       "      <td>0</td>\n",
       "      <td>11</td>\n",
       "      <td>7</td>\n",
       "      <td>7</td>\n",
       "      <td>9</td>\n",
       "      <td>5</td>\n",
       "      <td>...</td>\n",
       "      <td>0</td>\n",
       "      <td>17</td>\n",
       "      <td>0</td>\n",
       "      <td>5</td>\n",
       "      <td>19</td>\n",
       "      <td>10</td>\n",
       "      <td>11</td>\n",
       "      <td>4</td>\n",
       "      <td>4</td>\n",
       "      <td>20</td>\n",
       "    </tr>\n",
       "    <tr>\n",
       "      <th>3</th>\n",
       "      <td>5</td>\n",
       "      <td>11</td>\n",
       "      <td>17</td>\n",
       "      <td>3</td>\n",
       "      <td>1</td>\n",
       "      <td>13</td>\n",
       "      <td>9</td>\n",
       "      <td>10</td>\n",
       "      <td>11</td>\n",
       "      <td>7</td>\n",
       "      <td>...</td>\n",
       "      <td>0</td>\n",
       "      <td>14</td>\n",
       "      <td>0</td>\n",
       "      <td>0</td>\n",
       "      <td>15</td>\n",
       "      <td>8</td>\n",
       "      <td>7</td>\n",
       "      <td>0</td>\n",
       "      <td>0</td>\n",
       "      <td>16</td>\n",
       "    </tr>\n",
       "    <tr>\n",
       "      <th>4</th>\n",
       "      <td>5</td>\n",
       "      <td>7</td>\n",
       "      <td>15</td>\n",
       "      <td>3</td>\n",
       "      <td>1</td>\n",
       "      <td>10</td>\n",
       "      <td>8</td>\n",
       "      <td>7</td>\n",
       "      <td>11</td>\n",
       "      <td>4</td>\n",
       "      <td>...</td>\n",
       "      <td>0</td>\n",
       "      <td>13</td>\n",
       "      <td>0</td>\n",
       "      <td>0</td>\n",
       "      <td>15</td>\n",
       "      <td>6</td>\n",
       "      <td>7</td>\n",
       "      <td>0</td>\n",
       "      <td>0</td>\n",
       "      <td>16</td>\n",
       "    </tr>\n",
       "    <tr>\n",
       "      <th>...</th>\n",
       "      <td>...</td>\n",
       "      <td>...</td>\n",
       "      <td>...</td>\n",
       "      <td>...</td>\n",
       "      <td>...</td>\n",
       "      <td>...</td>\n",
       "      <td>...</td>\n",
       "      <td>...</td>\n",
       "      <td>...</td>\n",
       "      <td>...</td>\n",
       "      <td>...</td>\n",
       "      <td>...</td>\n",
       "      <td>...</td>\n",
       "      <td>...</td>\n",
       "      <td>...</td>\n",
       "      <td>...</td>\n",
       "      <td>...</td>\n",
       "      <td>...</td>\n",
       "      <td>...</td>\n",
       "      <td>...</td>\n",
       "      <td>...</td>\n",
       "    </tr>\n",
       "    <tr>\n",
       "      <th>795</th>\n",
       "      <td>0</td>\n",
       "      <td>4</td>\n",
       "      <td>13</td>\n",
       "      <td>0</td>\n",
       "      <td>0</td>\n",
       "      <td>7</td>\n",
       "      <td>5</td>\n",
       "      <td>4</td>\n",
       "      <td>8</td>\n",
       "      <td>0</td>\n",
       "      <td>...</td>\n",
       "      <td>2</td>\n",
       "      <td>18</td>\n",
       "      <td>0</td>\n",
       "      <td>7</td>\n",
       "      <td>21</td>\n",
       "      <td>10</td>\n",
       "      <td>13</td>\n",
       "      <td>7</td>\n",
       "      <td>4</td>\n",
       "      <td>21</td>\n",
       "    </tr>\n",
       "    <tr>\n",
       "      <th>796</th>\n",
       "      <td>0</td>\n",
       "      <td>5</td>\n",
       "      <td>15</td>\n",
       "      <td>0</td>\n",
       "      <td>0</td>\n",
       "      <td>8</td>\n",
       "      <td>9</td>\n",
       "      <td>5</td>\n",
       "      <td>11</td>\n",
       "      <td>0</td>\n",
       "      <td>...</td>\n",
       "      <td>1</td>\n",
       "      <td>17</td>\n",
       "      <td>0</td>\n",
       "      <td>0</td>\n",
       "      <td>20</td>\n",
       "      <td>8</td>\n",
       "      <td>13</td>\n",
       "      <td>5</td>\n",
       "      <td>0</td>\n",
       "      <td>20</td>\n",
       "    </tr>\n",
       "    <tr>\n",
       "      <th>797</th>\n",
       "      <td>0</td>\n",
       "      <td>8</td>\n",
       "      <td>17</td>\n",
       "      <td>0</td>\n",
       "      <td>0</td>\n",
       "      <td>11</td>\n",
       "      <td>9</td>\n",
       "      <td>7</td>\n",
       "      <td>11</td>\n",
       "      <td>2</td>\n",
       "      <td>...</td>\n",
       "      <td>0</td>\n",
       "      <td>16</td>\n",
       "      <td>0</td>\n",
       "      <td>2</td>\n",
       "      <td>19</td>\n",
       "      <td>10</td>\n",
       "      <td>11</td>\n",
       "      <td>4</td>\n",
       "      <td>0</td>\n",
       "      <td>20</td>\n",
       "    </tr>\n",
       "    <tr>\n",
       "      <th>798</th>\n",
       "      <td>0</td>\n",
       "      <td>1</td>\n",
       "      <td>10</td>\n",
       "      <td>0</td>\n",
       "      <td>0</td>\n",
       "      <td>4</td>\n",
       "      <td>4</td>\n",
       "      <td>1</td>\n",
       "      <td>8</td>\n",
       "      <td>0</td>\n",
       "      <td>...</td>\n",
       "      <td>4</td>\n",
       "      <td>16</td>\n",
       "      <td>0</td>\n",
       "      <td>5</td>\n",
       "      <td>20</td>\n",
       "      <td>9</td>\n",
       "      <td>13</td>\n",
       "      <td>7</td>\n",
       "      <td>0</td>\n",
       "      <td>21</td>\n",
       "    </tr>\n",
       "    <tr>\n",
       "      <th>799</th>\n",
       "      <td>0</td>\n",
       "      <td>5</td>\n",
       "      <td>13</td>\n",
       "      <td>0</td>\n",
       "      <td>0</td>\n",
       "      <td>9</td>\n",
       "      <td>5</td>\n",
       "      <td>4</td>\n",
       "      <td>8</td>\n",
       "      <td>0</td>\n",
       "      <td>...</td>\n",
       "      <td>5</td>\n",
       "      <td>19</td>\n",
       "      <td>3</td>\n",
       "      <td>9</td>\n",
       "      <td>21</td>\n",
       "      <td>12</td>\n",
       "      <td>14</td>\n",
       "      <td>9</td>\n",
       "      <td>5</td>\n",
       "      <td>21</td>\n",
       "    </tr>\n",
       "  </tbody>\n",
       "</table>\n",
       "<p>800 rows × 72 columns</p>\n",
       "</div>"
      ],
      "text/plain": [
       "     241  247  274  286  287  288  297  299  301  311  ...  1110  1111  1129  \\\n",
       "0      5   11   18    2    1   14    9   10   11    7  ...     0    17     0   \n",
       "1      0    6   13    0    0   10    6    5    8    2  ...     0    14     0   \n",
       "2      1    8   16    0    0   11    7    7    9    5  ...     0    17     0   \n",
       "3      5   11   17    3    1   13    9   10   11    7  ...     0    14     0   \n",
       "4      5    7   15    3    1   10    8    7   11    4  ...     0    13     0   \n",
       "..   ...  ...  ...  ...  ...  ...  ...  ...  ...  ...  ...   ...   ...   ...   \n",
       "795    0    4   13    0    0    7    5    4    8    0  ...     2    18     0   \n",
       "796    0    5   15    0    0    8    9    5   11    0  ...     1    17     0   \n",
       "797    0    8   17    0    0   11    9    7   11    2  ...     0    16     0   \n",
       "798    0    1   10    0    0    4    4    1    8    0  ...     4    16     0   \n",
       "799    0    5   13    0    0    9    5    4    8    0  ...     5    19     3   \n",
       "\n",
       "     1130  1132  1133  1136  1141  1143  1145  \n",
       "0       0    19    10    11     0     5    19  \n",
       "1       5    17     8     8     4     4    18  \n",
       "2       5    19    10    11     4     4    20  \n",
       "3       0    15     8     7     0     0    16  \n",
       "4       0    15     6     7     0     0    16  \n",
       "..    ...   ...   ...   ...   ...   ...   ...  \n",
       "795     7    21    10    13     7     4    21  \n",
       "796     0    20     8    13     5     0    20  \n",
       "797     2    19    10    11     4     0    20  \n",
       "798     5    20     9    13     7     0    21  \n",
       "799     9    21    12    14     9     5    21  \n",
       "\n",
       "[800 rows x 72 columns]"
      ]
     },
     "execution_count": 4,
     "metadata": {},
     "output_type": "execute_result"
    }
   ],
   "source": [
    "result"
   ]
  },
  {
   "cell_type": "code",
   "execution_count": 5,
   "id": "ac1f48e5",
   "metadata": {},
   "outputs": [
    {
     "name": "stdout",
     "output_type": "stream",
     "text": [
      "Earth Mover's Distance: 241 0.047\n",
      "Earth Mover's Distance: 247 0.057\n",
      "Earth Mover's Distance: 274 0.101\n",
      "Earth Mover's Distance: 286 0.004\n",
      "Earth Mover's Distance: 287 0.019\n",
      "Earth Mover's Distance: 288 0.057\n",
      "Earth Mover's Distance: 297 0.056\n",
      "Earth Mover's Distance: 299 0.09\n",
      "Earth Mover's Distance: 301 0.054\n",
      "Earth Mover's Distance: 311 0.066\n",
      "Earth Mover's Distance: 314 0.001\n",
      "Earth Mover's Distance: 327 0.065\n",
      "Earth Mover's Distance: 329 0.08\n",
      "Earth Mover's Distance: 332 0.078\n",
      "Earth Mover's Distance: 334 0.125\n",
      "Earth Mover's Distance: 340 0.08\n",
      "Earth Mover's Distance: 343 0.052\n",
      "Earth Mover's Distance: 349 0.067\n",
      "Earth Mover's Distance: 350 0.001\n",
      "Earth Mover's Distance: 923 0.106\n",
      "Earth Mover's Distance: 929 0.011\n",
      "Earth Mover's Distance: 932 0.089\n",
      "Earth Mover's Distance: 948 0.06\n",
      "Earth Mover's Distance: 951 0.065\n",
      "Earth Mover's Distance: 952 0.072\n",
      "Earth Mover's Distance: 953 0.119\n",
      "Earth Mover's Distance: 954 0.08\n",
      "Earth Mover's Distance: 955 0.144\n",
      "Earth Mover's Distance: 956 0.085\n",
      "Earth Mover's Distance: 957 0.102\n",
      "Earth Mover's Distance: 958 0.065\n",
      "Earth Mover's Distance: 959 0.057\n",
      "Earth Mover's Distance: 969 0.127\n",
      "Earth Mover's Distance: 972 0.039\n",
      "Earth Mover's Distance: 973 0.12\n",
      "Earth Mover's Distance: 977 0.077\n",
      "Earth Mover's Distance: 979 0.061\n",
      "Earth Mover's Distance: 984 0.112\n",
      "Earth Mover's Distance: 986 0.134\n",
      "Earth Mover's Distance: 993 0.036\n",
      "Earth Mover's Distance: 1001 0.116\n",
      "Earth Mover's Distance: 1015 0.102\n",
      "Earth Mover's Distance: 1016 0.065\n",
      "Earth Mover's Distance: 1025 0.002\n",
      "Earth Mover's Distance: 1032 0.109\n",
      "Earth Mover's Distance: 1053 0.071\n",
      "Earth Mover's Distance: 1060 0.042\n",
      "Earth Mover's Distance: 1061 0.054\n",
      "Earth Mover's Distance: 1062 0.107\n",
      "Earth Mover's Distance: 1065 0.091\n",
      "Earth Mover's Distance: 1069 0.071\n",
      "Earth Mover's Distance: 1070 0.099\n",
      "Earth Mover's Distance: 1074 0.074\n",
      "Earth Mover's Distance: 1075 0.052\n",
      "Earth Mover's Distance: 1082 0.126\n",
      "Earth Mover's Distance: 1083 0.146\n",
      "Earth Mover's Distance: 1084 0.121\n",
      "Earth Mover's Distance: 1090 0.114\n",
      "Earth Mover's Distance: 1096 0.12\n",
      "Earth Mover's Distance: 1099 0.01\n",
      "Earth Mover's Distance: 1104 0.004\n",
      "Earth Mover's Distance: 1107 0.042\n",
      "Earth Mover's Distance: 1110 0.046\n",
      "Earth Mover's Distance: 1111 0.069\n",
      "Earth Mover's Distance: 1129 0.018\n",
      "Earth Mover's Distance: 1130 0.134\n",
      "Earth Mover's Distance: 1132 0.075\n",
      "Earth Mover's Distance: 1133 0.06\n",
      "Earth Mover's Distance: 1136 0.036\n",
      "Earth Mover's Distance: 1141 0.111\n",
      "Earth Mover's Distance: 1143 0.042\n",
      "Earth Mover's Distance: 1145 0.082\n"
     ]
    }
   ],
   "source": [
    "from scipy.stats import wasserstein_distance\n",
    "\n",
    "lister = []\n",
    "for i in meow_map.columns:\n",
    "    # Assuming series1 and series2 are your pandas Series\n",
    "    emd_distance = wasserstein_distance(result[str(i)], meow_map[i])\n",
    "    print(\"Earth Mover's Distance:\", i, round(emd_distance,3))\n",
    "    lister.append(round(emd_distance,3))"
   ]
  },
  {
   "cell_type": "code",
   "execution_count": 11,
   "id": "7871ff9d",
   "metadata": {},
   "outputs": [
    {
     "data": {
      "text/plain": [
       "0     19\n",
       "1     18\n",
       "2     16\n",
       "3     17\n",
       "4     21\n",
       "5     21\n",
       "6     21\n",
       "7     20\n",
       "8     20\n",
       "9     21\n",
       "10    21\n",
       "11    20\n",
       "12    18\n",
       "13    19\n",
       "14    19\n",
       "15    19\n",
       "Name: 1145, dtype: int64"
      ]
     },
     "execution_count": 11,
     "metadata": {},
     "output_type": "execute_result"
    }
   ],
   "source": [
    "meow_map[1145]"
   ]
  },
  {
   "cell_type": "code",
   "execution_count": 12,
   "id": "40e32052",
   "metadata": {},
   "outputs": [
    {
     "data": {
      "text/plain": [
       "0      19\n",
       "1      18\n",
       "2      20\n",
       "3      16\n",
       "4      16\n",
       "       ..\n",
       "795    21\n",
       "796    20\n",
       "797    20\n",
       "798    21\n",
       "799    21\n",
       "Name: 1145, Length: 800, dtype: int64"
      ]
     },
     "execution_count": 12,
     "metadata": {},
     "output_type": "execute_result"
    }
   ],
   "source": [
    "result[\"1145\"]"
   ]
  },
  {
   "cell_type": "code",
   "execution_count": 6,
   "id": "155e0d9e",
   "metadata": {},
   "outputs": [
    {
     "data": {
      "text/plain": [
       "<AxesSubplot:>"
      ]
     },
     "execution_count": 6,
     "metadata": {},
     "output_type": "execute_result"
    },
    {
     "data": {
      "image/png": "[encoded data removed]",
      "text/plain": [
       "<Figure size 432x288 with 1 Axes>"
      ]
     },
     "metadata": {
      "needs_background": "light"
     },
     "output_type": "display_data"
    }
   ],
   "source": [
    "result[\"984\"].hist()"
   ]
  },
  {
   "cell_type": "code",
   "execution_count": 7,
   "id": "6c15d6c4",
   "metadata": {},
   "outputs": [
    {
     "data": {
      "text/plain": [
       "<AxesSubplot:>"
      ]
     },
     "execution_count": 7,
     "metadata": {},
     "output_type": "execute_result"
    },
    {
     "data": {
      "image/png": "[encoded data removed]",
      "text/plain": [
       "<Figure size 432x288 with 1 Axes>"
      ]
     },
     "metadata": {
      "needs_background": "light"
     },
     "output_type": "display_data"
    }
   ],
   "source": [
    "meow_map[984].hist()"
   ]
  },
  {
   "cell_type": "code",
   "execution_count": 8,
   "id": "b5ba6928",
   "metadata": {},
   "outputs": [
    {
     "data": {
      "text/html": [
       "<div>\n",
       "<style scoped>\n",
       "    .dataframe tbody tr th:only-of-type {\n",
       "        vertical-align: middle;\n",
       "    }\n",
       "\n",
       "    .dataframe tbody tr th {\n",
       "        vertical-align: top;\n",
       "    }\n",
       "\n",
       "    .dataframe thead th {\n",
       "        text-align: right;\n",
       "    }\n",
       "</style>\n",
       "<table border=\"1\" class=\"dataframe\">\n",
       "  <thead>\n",
       "    <tr style=\"text-align: right;\">\n",
       "      <th></th>\n",
       "      <th>0</th>\n",
       "    </tr>\n",
       "  </thead>\n",
       "  <tbody>\n",
       "    <tr>\n",
       "      <th>count</th>\n",
       "      <td>72.000000</td>\n",
       "    </tr>\n",
       "    <tr>\n",
       "      <th>mean</th>\n",
       "      <td>0.073222</td>\n",
       "    </tr>\n",
       "    <tr>\n",
       "      <th>std</th>\n",
       "      <td>0.037514</td>\n",
       "    </tr>\n",
       "    <tr>\n",
       "      <th>min</th>\n",
       "      <td>0.001000</td>\n",
       "    </tr>\n",
       "    <tr>\n",
       "      <th>25%</th>\n",
       "      <td>0.052000</td>\n",
       "    </tr>\n",
       "    <tr>\n",
       "      <th>50%</th>\n",
       "      <td>0.071000</td>\n",
       "    </tr>\n",
       "    <tr>\n",
       "      <th>75%</th>\n",
       "      <td>0.103000</td>\n",
       "    </tr>\n",
       "    <tr>\n",
       "      <th>max</th>\n",
       "      <td>0.146000</td>\n",
       "    </tr>\n",
       "  </tbody>\n",
       "</table>\n",
       "</div>"
      ],
      "text/plain": [
       "               0\n",
       "count  72.000000\n",
       "mean    0.073222\n",
       "std     0.037514\n",
       "min     0.001000\n",
       "25%     0.052000\n",
       "50%     0.071000\n",
       "75%     0.103000\n",
       "max     0.146000"
      ]
     },
     "execution_count": 8,
     "metadata": {},
     "output_type": "execute_result"
    }
   ],
   "source": [
    "pd.DataFrame(lister).describe()"
   ]
  },
  {
   "cell_type": "code",
   "execution_count": 10,
   "id": "f8967bbd",
   "metadata": {},
   "outputs": [
    {
     "data": {
      "text/plain": [
       "0.0"
      ]
     },
     "execution_count": 10,
     "metadata": {},
     "output_type": "execute_result"
    }
   ],
   "source": [
    "wasserstein_distance([1,0],[0,1] )"
   ]
  },
  {
   "cell_type": "markdown",
   "id": "4919a82f",
   "metadata": {},
   "source": [
    "# Error Analysis"
   ]
  },
  {
   "cell_type": "code",
   "execution_count": null,
   "id": "ca15ac05",
   "metadata": {},
   "outputs": [],
   "source": [
    "t1 = meow_map.corr()\n",
    "t2 = result.corr()"
   ]
  },
  {
   "cell_type": "code",
   "execution_count": null,
   "id": "ed2e89e7",
   "metadata": {},
   "outputs": [],
   "source": [
    "diff = []\n",
    "for i in range(t1.shape[0]):\n",
    "    for j in range(t1.shape[0]):\n",
    "\n",
    "        if (i>j):\n",
    "            continue\n",
    "        \n",
    "        v1 = abs(t1.iloc[i,j]-t2.iloc[i,j])\n",
    "        v2 = (abs(t1.iloc[i,j]))\n",
    "        #value  = 100*(v1/v2)\n",
    "        value = v1\n",
    "        # if value > 10:\n",
    "        #     print(v1, v2, value, i, j)\n",
    "        \n",
    "        diff.append(value)"
   ]
  },
  {
   "cell_type": "code",
   "execution_count": null,
   "id": "d8822d3e",
   "metadata": {},
   "outputs": [],
   "source": [
    "pd.DataFrame(diff).describe()"
   ]
  }
 ],
 "metadata": {
  "kernelspec": {
   "display_name": "Python 3 (ipykernel)",
   "language": "python",
   "name": "python3"
  },
  "language_info": {
   "codemirror_mode": {
    "name": "ipython",
    "version": 3
   },
   "file_extension": ".py",
   "mimetype": "text/x-python",
   "name": "python",
   "nbconvert_exporter": "python",
   "pygments_lexer": "ipython3",
   "version": "3.9.7"
  }
 },
 "nbformat": 4,
 "nbformat_minor": 5
}
